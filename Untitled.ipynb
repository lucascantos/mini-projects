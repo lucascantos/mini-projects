{
 "cells": [
  {
   "cell_type": "code",
   "execution_count": 365,
   "metadata": {
    "scrolled": true
   },
   "outputs": [
    {
     "name": "stdout",
     "output_type": "stream",
     "text": [
      "OIAPOQUE OIAPOQUE 1.0\n",
      "MACAPA MACAPÁ 0.769230769231\n",
      "MACAPA MACAPÁ 0.769230769231\n",
      "ASSUNCAO ÁSSUNÇÃO 0.526315789474\n",
      "CASADAMAEJOANA CASA DA MÃE JOANA 0.8125\n",
      "('Time: ', 0.0155387543636607)\n"
     ]
    }
   ],
   "source": [
    "import timeit\n",
    "start = timeit.default_timer()\n",
    "import numpy as np\n",
    "from difflib import SequenceMatcher as SM\n",
    "\n",
    "\n",
    "#Your statements here\n",
    "\n",
    "NOR = np.array(['NO','AP'])\n",
    "SER = np.array(['SE','SP','RJ'])\n",
    "SUL = np.array(['SU','PR','RS','SC'])\n",
    "\n",
    "big = []\n",
    "pcdRAW = np .genfromtxt('AP.txt', delimiter=';', dtype = 'S')\n",
    "maesRAW = np .genfromtxt('AP2.txt', delimiter=';', dtype = 'S')\n",
    "metarRAW = np .genfromtxt('METAR_LIST.txt',delimiter=';',dtype = 'S') #Cidade/Estado/ICAO/IATA/Nome\n",
    "\n",
    "pcd = np.char.upper(pcdRAW)\n",
    "maes = np.char.upper(maesRAW)\n",
    "# [:,3] significa todas[:] as linhas, apenas a coluna[3]. \n",
    "#Isso pode devolver 1 valor ou um array deles. Depende ser for uma matrix ou não\n",
    "#tambem pode ser escrito como [:][3]. Depende do numero de parametro\n",
    "\n",
    "maes_list = maes[:,-3:-1]\n",
    "\n",
    "for i in maes_list[:,0]:\n",
    "    j = 0\n",
    "    pcd_city = pcd[:,1][j]               \n",
    "    m = SM(None, pcd_list, i).ratio()\n",
    "    while m < 0.5:\n",
    "        j +=1\n",
    "        pcd_city = pcd [:,1][j] \n",
    "        m = SM(None, pcd_city, i).ratio()\n",
    "    #Estou salvando nesta variavel um array as colunas [0,1,2,6,8] da linha J e adicionando o nome [i] à tabela pq sim tlg\n",
    "    pcd_maes = np.insert(pcd[j,[0,1,2,6,8]], 1, i)\n",
    "    print i, pcd_city, m\n",
    "    #Adiciona o Array na matrix Big e converte em Array do Numpy\n",
    "    big.append(pcd_maes)\n",
    "    a = np.array(big)\n",
    "\n",
    "stop = timeit.default_timer()\n",
    "print('Time: ', stop - start)  \n",
    "\t\n",
    "#Pegar o nome da primeira cidade do Maes\n",
    "#Procurar no arquivo PCD a cidade com mesmo nome\n",
    "#Devolver linha\n",
    "#---LOOP PARA AS CIDADES\n",
    "\n",
    "#Printar arquivo final com TABS pra ficar bem espaçado\n",
    "\n"
   ]
  },
  {
   "cell_type": "code",
   "execution_count": 369,
   "metadata": {},
   "outputs": [
    {
     "name": "stdout",
     "output_type": "stream",
     "text": [
      "[['CASADAMAEJOANA' '22.9' '32.3']]\n"
     ]
    }
   ],
   "source": [
    "print (a[np.where(a[:,3] == 'SP')][:,[1,4,5]])"
   ]
  },
  {
   "cell_type": "code",
   "execution_count": null,
   "metadata": {},
   "outputs": [],
   "source": []
  }
 ],
 "metadata": {
  "kernelspec": {
   "display_name": "Python 2",
   "language": "python",
   "name": "python2"
  },
  "language_info": {
   "codemirror_mode": {
    "name": "ipython",
    "version": 2
   },
   "file_extension": ".py",
   "mimetype": "text/x-python",
   "name": "python",
   "nbconvert_exporter": "python",
   "pygments_lexer": "ipython2",
   "version": "2.7.15"
  }
 },
 "nbformat": 4,
 "nbformat_minor": 2
}
